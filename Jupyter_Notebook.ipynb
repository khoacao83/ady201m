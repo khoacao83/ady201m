{
 "cells": [
  {
   "cell_type": "markdown",
   "metadata": {},
   "source": [
    "<center>\n",
    "    <img src=\"https://cf-courses-data.s3.us.cloud-object-storage.appdomain.cloud/IBMDeveloperSkillsNetwork-DS0105EN-SkillsNetwork/labs/Module2/images/SN_web_lightmode.png\" width=\"300\" alt=\"cognitiveclass.ai logo\">\n",
    "</center>\n",
    "\n"
   ]
  },
  {
   "cell_type": "markdown",
   "metadata": {},
   "source": [
    "title of the notebook\n"
   ]
  },
  {
   "cell_type": "markdown",
   "metadata": {},
   "source": [
    "My name is Khoa"
   ]
  },
  {
   "cell_type": "markdown",
   "metadata": {},
   "source": [
    "List data sience language : Python, R, SQL, Jave, Scala, Julia, Matlab, ..."
   ]
  },
  {
   "cell_type": "markdown",
   "metadata": {},
   "source": [
    "List data sciece libraries : Pandas, Numpy, Dask, matplotlib, Sclit learn,...."
   ]
  },
  {
   "cell_type": "markdown",
   "metadata": {},
   "source": [
    "\n",
    "| Category                 | Tool/Library          | Description |\n",
    "|--------------------------|----------------------|-------------|\n",
    "| **Programming Languages** | Python, R, Scala, SQL | Most commonly used languages for data science |\n",
    "| **Data Manipulation**     | Pandas, NumPy, Dask  | Libraries for handling and processing data |\n",
    "| **Data Visualization**    | Matplotlib, Seaborn, Plotly, ggplot2 | Tools for plotting graphs and visualizing data |\n",
    "| **Machine Learning**      | Scikit-learn, XGBoost, LightGBM | Libraries for building and training ML models |\n",
    "| **Deep Learning**         | TensorFlow, PyTorch, Keras | Frameworks for neural networks and deep learning |\n",
    "| **NLP (Natural Language Processing)** | NLTK, spaCy, Transformers | Libraries for text and language processing |\n",
    "| **Big Data & Distributed Computing** | Apache Spark, PySpark, Vaex | Tools for handling large-scale datasets |\n",
    "| **AutoML**               | Auto-sklearn, TPOT, H2O.ai | Automated machine learning model selection and tuning |\n",
    "| **Model Deployment**      | Flask, FastAPI, TensorFlow Serving | Tools for deploying ML models into production |\n",
    "| **Database & Storage**    | MySQL, PostgreSQL, MongoDB | Databases used in data science projects |\n",
    "| **Cloud & MLOps**        | MLflow, Kubeflow, AWS SageMaker | Tools for managing and deploying models on the cloud |"
   ]
  },
  {
   "cell_type": "markdown",
   "metadata": {},
   "source": [
    "# Arithmetic Expression Examples  \n",
    "\n",
    "Arithmetic expressions are mathematical operations that involve numbers and operators. Here are some common arithmetic operations:  \n",
    "\n",
    "- **Addition (+):** Combines two numbers.  \n",
    "  - Example: `5 + 3 = 8`  \n",
    "\n",
    "- **Subtraction (-):** Finds the difference between two numbers.  \n",
    "  - Example: `10 - 4 = 6`  \n",
    "\n",
    "- **Multiplication (*):** Multiplies two numbers.  \n",
    "  - Example: `6 * 2 = 12`  \n",
    "\n",
    "- **Division (/):** Divides one number by another.  \n",
    "  - Example: `12 / 4 = 3`  \n",
    "\n",
    "- **Exponentiation (**):** Raises a number to the power of another.  \n",
    "  - Example: `2 ** 3 = 8` (2 raised to the power of 3)  \n",
    "\n",
    "- **Modulo (%):** Finds the remainder of division.  \n",
    "  - Example: `10 % 3 = 1` (Remainder when 10 is divided by 3)  \n",
    "\n",
    "These operations are commonly used in programming and data science for calculations and data analysis.  "
   ]
  },
  {
   "cell_type": "code",
   "execution_count": 1,
   "metadata": {},
   "outputs": [
    {
     "name": "stdout",
     "output_type": "stream",
     "text": [
      "Multiplication: 15\n",
      "Addition: 8\n"
     ]
    }
   ],
   "source": [
    "# Define numbers\n",
    "a = 5\n",
    "b = 3\n",
    "\n",
    "# Perform multiplication and addition\n",
    "multiplication = a * b\n",
    "addition = a + b\n",
    "\n",
    "# Print results\n",
    "print(\"Multiplication:\", multiplication)\n",
    "print(\"Addition:\", addition)"
   ]
  },
  {
   "cell_type": "code",
   "execution_count": 2,
   "metadata": {},
   "outputs": [
    {
     "name": "stdout",
     "output_type": "stream",
     "text": [
      "120 minutes is equal to 2.0 hours.\n"
     ]
    }
   ],
   "source": [
    "# Convert minutes to hours\n",
    "def convert_minutes_to_hours(minutes):\n",
    "    hours = minutes / 60\n",
    "    return hours\n",
    "\n",
    "# Example: Convert 120 minutes to hours\n",
    "minutes = 120\n",
    "hours = convert_minutes_to_hours(minutes)\n",
    "\n",
    "print(f\"{minutes} minutes is equal to {hours} hours.\")"
   ]
  },
  {
   "cell_type": "markdown",
   "metadata": {},
   "source": [
    "The objectives of this notebook are:  \n",
    "\n",
    "- Understand the basics of **arithmetic expressions**. (1 pt)  \n",
    "- Learn how to **convert minutes to hours** using Python. (1 pt)  \n",
    "- Explore and practice using **Markdown and Code cells** in Jupyter Notebook. (1 pt)  \n"
   ]
  },
  {
   "cell_type": "markdown",
   "metadata": {},
   "source": [
    "Cao Tran Anh Khoa"
   ]
  }
 ],
 "metadata": {
  "kernelspec": {
   "display_name": "Python 3 (ipykernel)",
   "language": "python",
   "name": "python3"
  },
  "language_info": {
   "codemirror_mode": {
    "name": "ipython",
    "version": 3
   },
   "file_extension": ".py",
   "mimetype": "text/x-python",
   "name": "python",
   "nbconvert_exporter": "python",
   "pygments_lexer": "ipython3",
   "version": "3.12.8"
  }
 },
 "nbformat": 4,
 "nbformat_minor": 4
}
